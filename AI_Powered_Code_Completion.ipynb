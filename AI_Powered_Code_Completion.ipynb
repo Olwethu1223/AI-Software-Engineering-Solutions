{
  "nbformat": 4,
  "nbformat_minor": 0,
  "metadata": {
    "colab": {
      "provenance": []
    },
    "kernelspec": {
      "name": "python3",
      "display_name": "Python 3"
    },
    "language_info": {
      "name": "python"
    }
  },
  "cells": [
    {
      "cell_type": "markdown",
      "source": [
        "Github copilot implementation"
      ],
      "metadata": {
        "id": "Sl6xUjSt564X"
      }
    },
    {
      "cell_type": "code",
      "source": [
        "def sort_list_of_dicts(list_of_dicts, sort_key):\n",
        "    \"\"\"Sort a list of dictionaries by a specified key.\"\"\"\n",
        "    return sorted(list_of_dicts, key=lambda x: x[sort_key])"
      ],
      "metadata": {
        "id": "s0OYFE8259eh"
      },
      "execution_count": 7,
      "outputs": []
    },
    {
      "cell_type": "markdown",
      "source": [
        "Manual implementation"
      ],
      "metadata": {
        "id": "wMv5bLQn6CO5"
      }
    },
    {
      "cell_type": "code",
      "source": [
        "def sort_list_of_dicts_manual(list_of_dicts, sort_key):\n",
        "    \"\"\"Manual implementation of sorting list of dictionaries by key.\"\"\"\n",
        "    # Create a list of tuples containing the sort key and the original dictionary\n",
        "    decorated = [(dict_[sort_key], dict_) for dict_ in list_of_dicts]\n",
        "\n",
        "    # Sort the list of tuples\n",
        "    decorated.sort()\n",
        "\n",
        "    # Extract the sorted dictionaries\n",
        "    return [dict_ for (key, dict_) in decorated]"
      ],
      "metadata": {
        "id": "_3BV86sb6Ff_"
      },
      "execution_count": 8,
      "outputs": []
    },
    {
      "cell_type": "markdown",
      "source": [
        "Sample data"
      ],
      "metadata": {
        "id": "5_xSEOB-AMS0"
      }
    },
    {
      "cell_type": "code",
      "source": [
        "# Sample data\n",
        "people = [\n",
        "    {\"name\": \"Alice\", \"age\": 30},\n",
        "    {\"name\": \"Bob\", \"age\": 25},\n",
        "    {\"name\": \"Charlie\", \"age\": 35}\n",
        "]\n",
        "\n",
        "# Sort by age (ascending)\n",
        "sorted_by_age = sort_dict_list(people, \"age\")\n",
        "print(sorted_by_age)\n",
        "\n",
        "# Sort by name (descending)\n",
        "sorted_by_name = sort_dict_list(people, \"name\", reverse=True)\n",
        "print(sorted_by_name)"
      ],
      "metadata": {
        "colab": {
          "base_uri": "https://localhost:8080/"
        },
        "id": "h6_GUtD65tMA",
        "outputId": "155429d8-9e87-4ade-c1ef-c7dfb8786e56"
      },
      "execution_count": 6,
      "outputs": [
        {
          "output_type": "stream",
          "name": "stdout",
          "text": [
            "[{'name': 'Bob', 'age': 25}, {'name': 'Alice', 'age': 30}, {'name': 'Charlie', 'age': 35}]\n",
            "[{'name': 'Charlie', 'age': 35}, {'name': 'Bob', 'age': 25}, {'name': 'Alice', 'age': 30}]\n"
          ]
        }
      ]
    },
    {
      "cell_type": "markdown",
      "source": [
        "Efficiency Analysis (200 words)\n",
        "Both implementations achieve the same result but differ in their approach and underlying efficiency. The Copilot version uses Python's built-in sorted() function with a lambda as the key function, which is concise and leverages Python's optimized sorting algorithm (Timsort). This approach has O(n log n) time complexity, typical for comparison-based sorting, with O(n) space complexity for creating the new sorted list.\n",
        "\n",
        "The manual implementation follows the \"decorate-sort-undecorate\" pattern (Schwartzian transform). While also O(n log n) in time complexity, it creates intermediate data structures (the decorated list), making it slightly less memory efficient than the Copilot version. The manual version performs three operations: list comprehension for decoration, in-place sort, and another list comprehension for undecoration.\n",
        "\n",
        "The Copilot version is more Pythonic and efficient as it:\n",
        "\n",
        "Uses built-in functions that are highly optimized in Python's C implementation\n",
        "\n",
        "Avoids creating unnecessary intermediate data structures\n",
        "\n",
        "Is more readable with fewer lines of code\n",
        "\n",
        "Handles edge cases (like missing keys) similarly to the manual version\n",
        "\n",
        "For most practical purposes, the Copilot implementation would be preferable due to its simplicity and equivalent performance characteristics."
      ],
      "metadata": {
        "id": "Nst9I68Pn87c"
      }
    }
  ]
}